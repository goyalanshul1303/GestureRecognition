{
 "cells": [
  {
   "cell_type": "markdown",
   "metadata": {},
   "source": [
    "# Gesture Recognition\n",
    "In this group project, you are going to build a 3D Conv model that will be able to predict the 5 gestures correctly. Please import the following libraries to get started. Once you have completed the code you can download the notebook for making a submission."
   ]
  },
  {
   "cell_type": "code",
   "execution_count": 56,
   "metadata": {},
   "outputs": [],
   "source": [
    "import numpy as np\n",
    "import os\n",
    "from imageio import imread\n",
    "from skimage.transform import resize\n",
    "from skimage.util import crop\n",
    "import datetime\n",
    "import os"
   ]
  },
  {
   "cell_type": "markdown",
   "metadata": {},
   "source": [
    "We set the random seed so that the results don't vary drastically."
   ]
  },
  {
   "cell_type": "code",
   "execution_count": 57,
   "metadata": {},
   "outputs": [],
   "source": [
    "np.random.seed(30)\n",
    "import random as rn\n",
    "rn.seed(30)\n",
    "from tensorflow import keras\n",
    "import tensorflow as tf\n",
    "tf.random.set_seed(30)"
   ]
  },
  {
   "cell_type": "markdown",
   "metadata": {},
   "source": [
    "In this block, you read the folder names for training and validation. You also set the `batch_size` here. Note that you set the batch size in such a way that you are able to use the GPU in full capacity. You keep increasing the batch size until the machine throws an error."
   ]
  },
  {
   "cell_type": "markdown",
   "metadata": {},
   "source": [
    "**data path: /home/datasets/Project_data**"
   ]
  },
  {
   "cell_type": "code",
   "execution_count": 58,
   "metadata": {},
   "outputs": [],
   "source": [
    "train_doc = np.random.permutation(open('/home/datasets/Project_data/train.csv').readlines())\n",
    "val_doc = np.random.permutation(open('/home/datasets/Project_data/val.csv').readlines())\n",
    "#Batch size started with 200 but resource exhasted error came. Reduced to 100\n",
    "batch_size = 20\n",
    "img_idx = range(6,26,2)\n",
    "dim_x, dim_y = 120, 120\n",
    "#crop_size = 256  # Size of square crop"
   ]
  },
  {
   "cell_type": "markdown",
   "metadata": {},
   "source": [
    "## Generator\n",
    "This is one of the most important part of the code. The overall structure of the generator has been given. In the generator, you are going to preprocess the images as you have images of 2 different dimensions as well as create a batch of video frames. You have to experiment with `img_idx`, `y`,`z` and normalization such that you get high accuracy."
   ]
  },
  {
   "cell_type": "code",
   "execution_count": 59,
   "metadata": {},
   "outputs": [],
   "source": [
    "def generator(source_path, folder_list, batch_size):\n",
    "    print( 'Source path = ', source_path, '; batch size =', batch_size)\n",
    "    #img_idx = range(6,26,2)\n",
    "    x = len(img_idx)\n",
    "    y, z = dim_x, dim_y\n",
    "    \n",
    "    '''\n",
    "    def crop_center(img, crop_width, crop_height):\n",
    "        y, x = img.shape[:2]\n",
    "        start_x = max(0, x//2 - crop_width//2)\n",
    "        start_y = max(0, y//2 - crop_height//2)\n",
    "        return img[start_y:start_y+crop_height, start_x:start_x+crop_width]\n",
    "    '''\n",
    "    \n",
    "    while True:\n",
    "        t = np.random.permutation(folder_list)\n",
    "        num_batches = len(folder_list)//batch_size\n",
    "        print(num_batches)\n",
    "        for batch in range(num_batches): # we iterate over the number of batches\n",
    "            batch_data = np.zeros((batch_size,x,y,z,3)) # x is the number of images you use for each video, (y,z) is the final size of the input images and 3 is the number of channels RGB\n",
    "            batch_labels = np.zeros((batch_size,5)) # batch_labels is the one hot representation of the output\n",
    "            for folder in range(batch_size): # iterate over the batch_size\n",
    "                #print(folder)\n",
    "                #print(batch)\n",
    "                #print(batch_size)\n",
    "                imgs = sorted(os.listdir(source_path+'/'+ t[folder + (batch)].split(';')[0])) # read all the images in the folder\n",
    "                for idx,item in enumerate(img_idx): #  Iterate iver the frames/images of a folder to read them in\n",
    "                    image = imread(source_path+'/'+ t[folder + (batch)].strip().split(';')[0]+'/'+imgs[item]).astype(np.float32)\n",
    "                    \n",
    "                    #crop the images and resize them. Note that the images are of 2 different shape \n",
    "                    #and the conv3D will throw error if the inputs in a batch have different shapes\n",
    "                    cropped_image = crop(image, ((30, 30), (30, 30), (0, 0)))\n",
    "                    image_resized = resize(cropped_image, (y,z))\n",
    "                    \n",
    "                    batch_data[folder,idx,:,:,0] = image_resized[:,:,0]/255 #normalise and feed in the image\n",
    "                    batch_data[folder,idx,:,:,1] = image_resized[:,:,1]/255 #normalise and feed in the image\n",
    "                    batch_data[folder,idx,:,:,2] = image_resized[:,:,2]/255 #normalise and feed in the image\n",
    "                    \n",
    "                batch_labels[folder, int(t[folder + (batch)].strip().split(';')[2])] = 1\n",
    "            yield batch_data, batch_labels #you yield the batch_data and the batch_labels, remember what does yield do\n",
    "\n",
    "        \n",
    "        # write the code for the remaining data points which are left after full batches\n",
    "        remaining = len(folder_list) % batch_size\n",
    "        if remaining > 0:\n",
    "            batch_data = np.zeros((remaining, x, y, z, 3))\n",
    "            batch_labels = np.zeros((remaining, 5))\n",
    "           \n",
    "            for folder in range(remaining):\n",
    "                folder_index = num_batches + folder +1\n",
    "                folder_info = t[folder_index].strip().split(';')\n",
    "                folder_path = os.path.join(source_path, folder_info[0])\n",
    "                \n",
    "                imgs = sorted(os.listdir(folder_path))\n",
    "                for idx, item in enumerate(img_idx):\n",
    "                    img_path = os.path.join(folder_path, imgs[item])\n",
    "                    image = imread(img_path).astype(np.float32)\n",
    "                    cropped_image = crop(image, ((30, 30), (30, 30), (0, 0)))\n",
    "                    image_resized = resize(cropped_image, (y, z))\n",
    "                    batch_data[folder, idx] = image_resized / 255\n",
    "\n",
    "                batch_labels[folder, int(folder_info[2])] = 1\n",
    "           \n",
    "            yield batch_data, batch_labels\n"
   ]
  },
  {
   "cell_type": "markdown",
   "metadata": {},
   "source": [
    "Note here that a video is represented above in the generator as (number of images, height, width, number of channels). Take this into consideration while creating the model architecture."
   ]
  },
  {
   "cell_type": "code",
   "execution_count": 60,
   "metadata": {},
   "outputs": [
    {
     "name": "stdout",
     "output_type": "stream",
     "text": [
      "# training sequences = 663\n",
      "# validation sequences = 100\n",
      "# epochs = 20\n"
     ]
    }
   ],
   "source": [
    "curr_dt_time = datetime.datetime.now()\n",
    "train_path = '/home/datasets/Project_data/train'\n",
    "val_path = '/home/datasets/Project_data/val'\n",
    "num_train_sequences = len(train_doc)\n",
    "print('# training sequences =', num_train_sequences)\n",
    "num_val_sequences = len(val_doc)\n",
    "print('# validation sequences =', num_val_sequences)\n",
    "num_epochs = 20\n",
    "print ('# epochs =', num_epochs)"
   ]
  },
  {
   "cell_type": "markdown",
   "metadata": {},
   "source": [
    "## Model\n",
    "Here you make the model using different functionalities that Keras provides. Remember to use `Conv3D` and `MaxPooling3D` and not `Conv2D` and `Maxpooling2D` for a 3D convolution model. You would want to use `TimeDistributed` while building a Conv2D + RNN model. Also remember that the last layer is the softmax. Design the network in such a way that the model is able to give good accuracy on the least number of parameters so that it can fit in the memory of the webcam."
   ]
  },
  {
   "cell_type": "code",
   "execution_count": 61,
   "metadata": {},
   "outputs": [
    {
     "data": {
      "text/plain": [
       "(10, 120, 120, 3)"
      ]
     },
     "execution_count": 61,
     "metadata": {},
     "output_type": "execute_result"
    }
   ],
   "source": [
    "input_shape = (len(img_idx), dim_x, dim_y, 3)\n",
    "input_shape"
   ]
  },
  {
   "cell_type": "code",
   "execution_count": 62,
   "metadata": {},
   "outputs": [],
   "source": [
    "from tensorflow.keras.models import Sequential\n",
    "from tensorflow.keras.layers import Dense, GRU, Dropout, Flatten, BatchNormalization, Activation, Conv3D, MaxPooling3D, Conv2D, MaxPooling2D, TimeDistributed, GlobalAveragePooling2D, ConvLSTM2D\n",
    "from tensorflow.keras.callbacks import ModelCheckpoint, ReduceLROnPlateau\n",
    "from tensorflow.keras import optimizers\n",
    "\n",
    "#write your model here\n"
   ]
  },
  {
   "cell_type": "markdown",
   "metadata": {},
   "source": [
    "#### Convolution-2D + GRU"
   ]
  },
  {
   "cell_type": "code",
   "execution_count": 63,
   "metadata": {},
   "outputs": [],
   "source": [
    "#model = Sequential()\n",
    "#model.add(TimeDistributed(\n",
    "#    Conv2D(32, (3,3), activation='relu'), input_shape=input_shape)\n",
    "#)\n",
    "#model.add(TimeDistributed(\n",
    "#    MaxPooling2D((2,2)))\n",
    "#)\n",
    "#model.add(BatchNormalization())\n",
    "#\n",
    "#model.add(TimeDistributed(\n",
    "#    Conv2D(64, (3,3), activation='relu'))\n",
    "#)\n",
    "#model.add(TimeDistributed(\n",
    "#    MaxPooling2D((2,2)))\n",
    "#)\n",
    "#model.add(BatchNormalization())\n",
    "#\n",
    "#model.add(TimeDistributed(GlobalAveragePooling2D()))\n",
    "#model.add(TimeDistributed(Dense(64, activation='relu')))\n",
    "#model.add(BatchNormalization())\n",
    "#\n",
    "#model.add(GRU(128))\n",
    "#model.add(BatchNormalization())\n",
    "#model.add(Dense(5, activation='softmax'))"
   ]
  },
  {
   "cell_type": "markdown",
   "metadata": {},
   "source": [
    "#### Convolution - 2D + GRU + dropout"
   ]
  },
  {
   "cell_type": "code",
   "execution_count": 64,
   "metadata": {},
   "outputs": [],
   "source": [
    "#model = Sequential()\n",
    "#model.add(TimeDistributed(\n",
    "#    Conv2D(32, (3,3), activation='relu'), input_shape=input_shape)\n",
    "#)\n",
    "#model.add(TimeDistributed(\n",
    "#    MaxPooling2D((2,2)))\n",
    "#)\n",
    "#model.add(BatchNormalization())\n",
    "#model.add(Dropout(0.2))\n",
    "#\n",
    "#model.add(TimeDistributed(\n",
    "#    Conv2D(64, (3,3), activation='relu'))\n",
    "#)\n",
    "#model.add(TimeDistributed(\n",
    "#    MaxPooling2D((2,2)))\n",
    "#)\n",
    "#model.add(BatchNormalization())\n",
    "#model.add(Dropout(0.2))\n",
    "#\n",
    "#model.add(TimeDistributed(GlobalAveragePooling2D()))\n",
    "#model.add(TimeDistributed(Dense(64, activation='relu')))\n",
    "#model.add(BatchNormalization())\n",
    "#model.add(Dropout(0.2))\n",
    "#\n",
    "#model.add(GRU(128))\n",
    "#model.add(BatchNormalization())\n",
    "#model.add(Dense(5, activation='softmax'))"
   ]
  },
  {
   "cell_type": "markdown",
   "metadata": {},
   "source": [
    "### Convolution-3D Simple"
   ]
  },
  {
   "cell_type": "code",
   "execution_count": 65,
   "metadata": {},
   "outputs": [],
   "source": [
    "#model = Sequential()\n",
    "#model.add(Conv3D(32, kernel_size=3, activation='relu', input_shape=input_shape, padding='same'))\n",
    "#model.add(MaxPooling3D(pool_size=2))\n",
    "#\n",
    "#model.add(Conv3D(64, kernel_size=3, activation='relu', padding='same'))\n",
    "#model.add(MaxPooling3D(pool_size=2))\n",
    "#\n",
    "#model.add(Flatten())\n",
    "#model.add(Dense(256, activation='relu'))\n",
    "#model.add(Dense(5, activation='softmax'))"
   ]
  },
  {
   "cell_type": "markdown",
   "metadata": {},
   "source": [
    "#### Convolution-3D"
   ]
  },
  {
   "cell_type": "code",
   "execution_count": 66,
   "metadata": {},
   "outputs": [],
   "source": [
    "# Getting issues while setting up Pool size, calculating and handling the same adjusting\n",
    "#model = Sequential()\n",
    "#\n",
    "#model.add(Conv3D(32, kernel_size=3, activation='relu', input_shape=input_shape, padding='same'))\n",
    "#model.add(Conv3D(64, kernel_size=3, activation='relu'))\n",
    "#model.add(MaxPooling3D(pool_size=(1, 2, 2)))\n",
    "#\n",
    "#model.add(Conv3D(128, kernel_size=3, activation='relu', padding='same'))\n",
    "#model.add(MaxPooling3D(pool_size=(1, 2, 2)))\n",
    "#\n",
    "#model.add(Conv3D(256, kernel_size=(3,3,3), activation='relu', padding='same'))\n",
    "#model.add(MaxPooling3D(pool_size=(2, 2, 2)))\n",
    "#\n",
    "#model.add(Conv3D(512, kernel_size=(3, 3, 3), activation='relu', padding='same'))\n",
    "#model.add(Conv3D(512, kernel_size=(3, 3, 3), activation='relu', padding='same'))\n",
    "#model.add(MaxPooling3D(pool_size=(2, 2, 2)))\n",
    "#\n",
    "#model.add(Flatten())\n",
    "#model.add(Dense(512, activation='relu'))\n",
    "#model.add(Dense(5, activation='softmax'))"
   ]
  },
  {
   "cell_type": "markdown",
   "metadata": {},
   "source": [
    "#### Convolution-3D with dropouts"
   ]
  },
  {
   "cell_type": "code",
   "execution_count": 67,
   "metadata": {},
   "outputs": [],
   "source": [
    "#model = Sequential()\n",
    "#\n",
    "#model.add(Conv3D(32, kernel_size=3, activation='relu', input_shape=input_shape, padding='same'))\n",
    "#model.add(Conv3D(64, kernel_size=3, activation='relu', padding='same'))\n",
    "#model.add(MaxPooling3D(pool_size=(2, 2, 2)))\n",
    "#model.add(BatchNormalization())\n",
    "#model.add(Dropout(0.5))\n",
    "#\n",
    "#model.add(Conv3D(128, kernel_size=3, activation='relu', padding='same'))\n",
    "#model.add(MaxPooling3D(pool_size=(1, 2, 2)))\n",
    "#model.add(BatchNormalization())\n",
    "#model.add(Dropout(0.5))\n",
    "#\n",
    "#model.add(Conv3D(256, kernel_size=(1, 3, 3), activation='relu', padding='same'))\n",
    "#model.add(MaxPooling3D(pool_size=(1, 2, 2)))\n",
    "#model.add(BatchNormalization())\n",
    "#model.add(Dropout(0.5))\n",
    "#\n",
    "#model.add(Conv3D(512, kernel_size=(1, 3, 3), activation='relu', padding='same'))\n",
    "#model.add(Conv3D(512, kernel_size=(1, 3, 3), activation='relu', padding='same'))\n",
    "#model.add(MaxPooling3D(pool_size=(1, 2, 2)))\n",
    "#model.add(BatchNormalization())\n",
    "#model.add(Dropout(0.5))\n",
    "#\n",
    "#model.add(Flatten())\n",
    "#model.add(Dense(512, activation='relu', padding='same'))\n",
    "#model.add(BatchNormalization())\n",
    "#model.add(Dense(5, activation='softmax'))"
   ]
  },
  {
   "cell_type": "markdown",
   "metadata": {},
   "source": [
    "#### Conv3D-reduced dropouts"
   ]
  },
  {
   "cell_type": "code",
   "execution_count": 68,
   "metadata": {},
   "outputs": [],
   "source": [
    "#model = Sequential()\n",
    "#\n",
    "#model.add(Conv3D(32, kernel_size=3, activation='relu', input_shape=input_shape))\n",
    "#model.add(Conv3D(64, kernel_size=3, activation='relu'))\n",
    "#model.add(MaxPooling3D(pool_size=(2, 2, 2)))\n",
    "#model.add(BatchNormalization())\n",
    "#model.add(Dropout(0.2))\n",
    "#\n",
    "#model.add(Conv3D(128, kernel_size=3, activation='relu'))\n",
    "#model.add(MaxPooling3D(pool_size=(1, 2, 2)))\n",
    "#model.add(BatchNormalization())\n",
    "#model.add(Dropout(0.2))\n",
    "#\n",
    "#model.add(Conv3D(256, kernel_size=(1, 3, 3), activation='relu'))\n",
    "#model.add(MaxPooling3D(pool_size=(1, 2, 2)))\n",
    "#model.add(BatchNormalization())\n",
    "#model.add(Dropout(0.2))\n",
    "#\n",
    "#model.add(Flatten())\n",
    "#model.add(Dense(512, activation='relu'))\n",
    "#model.add(BatchNormalization())\n",
    "#model.add(Dense(5, activation='softmax'))"
   ]
  },
  {
   "cell_type": "markdown",
   "metadata": {},
   "source": [
    "#### LSTM-CONV2D"
   ]
  },
  {
   "cell_type": "code",
   "execution_count": 69,
   "metadata": {},
   "outputs": [],
   "source": [
    "model = Sequential()\n",
    "model.add(TimeDistributed(\n",
    "    Conv2D(8, (3,3), activation='relu'), input_shape=input_shape)\n",
    ")\n",
    "model.add(BatchNormalization())\n",
    "model.add(TimeDistributed(\n",
    "    Conv2D(16, (3,3), activation='relu'))\n",
    ")\n",
    "model.add(BatchNormalization())\n",
    "model.add(\n",
    "    ConvLSTM2D(8, kernel_size = 3, return_sequences=False)\n",
    ")\n",
    "model.add(BatchNormalization())\n",
    "model.add(TimeDistributed(\n",
    "    Dense(64, activation='relu'))\n",
    ")\n",
    "model.add(BatchNormalization())\n",
    "model.add(GlobalAveragePooling2D())\n",
    "model.add(Dense(64, activation='relu'))\n",
    "model.add(Dense(5, activation='softmax'))"
   ]
  },
  {
   "cell_type": "markdown",
   "metadata": {},
   "source": [
    "Now that you have written the model, the next step is to `compile` the model. When you print the `summary` of the model, you'll see the total number of parameters you have to train."
   ]
  },
  {
   "cell_type": "code",
   "execution_count": 70,
   "metadata": {
    "scrolled": true
   },
   "outputs": [
    {
     "name": "stdout",
     "output_type": "stream",
     "text": [
      "Model: \"sequential_3\"\n",
      "_________________________________________________________________\n",
      " Layer (type)                Output Shape              Param #   \n",
      "=================================================================\n",
      " conv3d_8 (Conv3D)           (None, 8, 118, 118, 32)   2624      \n",
      "                                                                 \n",
      " conv3d_9 (Conv3D)           (None, 6, 116, 116, 64)   55360     \n",
      "                                                                 \n",
      " max_pooling3d_7 (MaxPooling  (None, 3, 58, 58, 64)    0         \n",
      " 3D)                                                             \n",
      "                                                                 \n",
      " batch_normalization_4 (Batc  (None, 3, 58, 58, 64)    256       \n",
      " hNormalization)                                                 \n",
      "                                                                 \n",
      " dropout_3 (Dropout)         (None, 3, 58, 58, 64)     0         \n",
      "                                                                 \n",
      " conv3d_10 (Conv3D)          (None, 1, 56, 56, 128)    221312    \n",
      "                                                                 \n",
      " max_pooling3d_8 (MaxPooling  (None, 1, 28, 28, 128)   0         \n",
      " 3D)                                                             \n",
      "                                                                 \n",
      " batch_normalization_5 (Batc  (None, 1, 28, 28, 128)   512       \n",
      " hNormalization)                                                 \n",
      "                                                                 \n",
      " dropout_4 (Dropout)         (None, 1, 28, 28, 128)    0         \n",
      "                                                                 \n",
      " conv3d_11 (Conv3D)          (None, 1, 26, 26, 256)    295168    \n",
      "                                                                 \n",
      " max_pooling3d_9 (MaxPooling  (None, 1, 13, 13, 256)   0         \n",
      " 3D)                                                             \n",
      "                                                                 \n",
      " batch_normalization_6 (Batc  (None, 1, 13, 13, 256)   1024      \n",
      " hNormalization)                                                 \n",
      "                                                                 \n",
      " dropout_5 (Dropout)         (None, 1, 13, 13, 256)    0         \n",
      "                                                                 \n",
      " flatten_3 (Flatten)         (None, 43264)             0         \n",
      "                                                                 \n",
      " dense_6 (Dense)             (None, 512)               22151680  \n",
      "                                                                 \n",
      " batch_normalization_7 (Batc  (None, 512)              2048      \n",
      " hNormalization)                                                 \n",
      "                                                                 \n",
      " dense_7 (Dense)             (None, 5)                 2565      \n",
      "                                                                 \n",
      "=================================================================\n",
      "Total params: 22,732,549\n",
      "Trainable params: 22,730,629\n",
      "Non-trainable params: 1,920\n",
      "_________________________________________________________________\n",
      "None\n"
     ]
    }
   ],
   "source": [
    "optimiser = optimizers.Adam(learning_rate=0.01)\n",
    "model.compile(optimizer=optimiser, loss='categorical_crossentropy', metrics=['categorical_accuracy'])\n",
    "print (model.summary())"
   ]
  },
  {
   "cell_type": "markdown",
   "metadata": {},
   "source": [
    "Let us create the `train_generator` and the `val_generator` which will be used in `.fit_generator`."
   ]
  },
  {
   "cell_type": "code",
   "execution_count": 71,
   "metadata": {},
   "outputs": [],
   "source": [
    "train_generator = generator(train_path, train_doc, batch_size)\n",
    "val_generator = generator(val_path, val_doc, batch_size)"
   ]
  },
  {
   "cell_type": "code",
   "execution_count": 72,
   "metadata": {},
   "outputs": [],
   "source": [
    "model_name = 'LSTM-Conv2D' + '_' + str(curr_dt_time).replace(' ','').replace(':','_') + '/'\n",
    "    \n",
    "if not os.path.exists(model_name):\n",
    "    os.mkdir(model_name)\n",
    "        \n",
    "filepath = model_name + 'LSTM-Conv2D-{epoch:05d}-{loss:.5f}-{categorical_accuracy:.5f}-{val_loss:.5f}-{val_categorical_accuracy:.5f}.h5'\n",
    "\n",
    "checkpoint = ModelCheckpoint(filepath, monitor='val_loss', verbose=1, save_best_only=False, save_weights_only=False, mode='auto',save_freq = 'epoch')\n",
    "\n",
    "LR = ReduceLROnPlateau(monitor='val_loss', factor=0.2, min_lr=0.001, patience=5, verbose=1)\n",
    "callbacks_list = [checkpoint, LR]"
   ]
  },
  {
   "cell_type": "markdown",
   "metadata": {},
   "source": [
    "The `steps_per_epoch` and `validation_steps` are used by `fit` method to decide the number of next() calls it need to make."
   ]
  },
  {
   "cell_type": "code",
   "execution_count": 73,
   "metadata": {},
   "outputs": [
    {
     "name": "stdout",
     "output_type": "stream",
     "text": [
      "20\n",
      "34\n"
     ]
    }
   ],
   "source": [
    "print(batch_size)\n",
    "if (num_train_sequences%batch_size) == 0:\n",
    "    steps_per_epoch = int(num_train_sequences/batch_size)\n",
    "else:\n",
    "    steps_per_epoch = (num_train_sequences//batch_size) + 1\n",
    "\n",
    "if (num_val_sequences%batch_size) == 0:\n",
    "    validation_steps = int(num_val_sequences/batch_size)\n",
    "else:\n",
    "    validation_steps = (num_val_sequences//batch_size) + 1\n",
    "    \n",
    "print(steps_per_epoch)"
   ]
  },
  {
   "cell_type": "markdown",
   "metadata": {},
   "source": [
    "Let us now fit the model. This will start training the model and with the help of the checkpoints, you'll be able to save the model at the end of each epoch."
   ]
  },
  {
   "cell_type": "code",
   "execution_count": 74,
   "metadata": {},
   "outputs": [
    {
     "name": "stdout",
     "output_type": "stream",
     "text": [
      "Source path =  /home/datasets/Project_data/train ; batch size = 20\n",
      "33\n",
      "Epoch 1/20\n",
      "33/34 [============================>.] - ETA: 1s - loss: 0.5218 - categorical_accuracy: 0.903033\n",
      "34/34 [==============================] - ETA: 0s - loss: 0.5331 - categorical_accuracy: 0.9020Source path =  /home/datasets/Project_data/val ; batch size = 20\n",
      "5\n",
      "5\n",
      "\n",
      "Epoch 00001: saving model to Conv3D-Dropout-0.2_2024-08-0617_26_29.564942/Conv3D-Dropout-0.2-00001-0.53311-0.90196-1147.50574-0.28000.h5\n",
      "34/34 [==============================] - 49s 1s/step - loss: 0.5331 - categorical_accuracy: 0.9020 - val_loss: 1147.5057 - val_categorical_accuracy: 0.2800 - lr: 0.0100\n",
      "Epoch 2/20\n",
      "33/34 [============================>.] - ETA: 1s - loss: 0.8679 - categorical_accuracy: 0.889433\n",
      "34/34 [==============================] - ETA: 0s - loss: 0.8652 - categorical_accuracy: 0.88845\n",
      "\n",
      "Epoch 00002: saving model to Conv3D-Dropout-0.2_2024-08-0617_26_29.564942/Conv3D-Dropout-0.2-00002-0.86515-0.88839-123.11698-0.18000.h5\n",
      "34/34 [==============================] - 46s 1s/step - loss: 0.8652 - categorical_accuracy: 0.8884 - val_loss: 123.1170 - val_categorical_accuracy: 0.1800 - lr: 0.0100\n",
      "Epoch 3/20\n",
      "33/34 [============================>.] - ETA: 1s - loss: 0.8877 - categorical_accuracy: 0.859133\n",
      "5\n",
      "\n",
      "Epoch 00003: saving model to Conv3D-Dropout-0.2_2024-08-0617_26_29.564942/Conv3D-Dropout-0.2-00003-0.88369-0.85973-18.72515-0.21000.h5\n",
      "34/34 [==============================] - 46s 1s/step - loss: 0.8837 - categorical_accuracy: 0.8597 - val_loss: 18.7251 - val_categorical_accuracy: 0.2100 - lr: 0.0100\n",
      "Epoch 4/20\n",
      "33/34 [============================>.] - ETA: 1s - loss: 1.0598 - categorical_accuracy: 0.824233\n",
      "34/34 [==============================] - ETA: 0s - loss: 1.0599 - categorical_accuracy: 0.82355\n",
      "\n",
      "Epoch 00004: saving model to Conv3D-Dropout-0.2_2024-08-0617_26_29.564942/Conv3D-Dropout-0.2-00004-1.05993-0.82353-11.68840-0.32000.h5\n",
      "34/34 [==============================] - 43s 1s/step - loss: 1.0599 - categorical_accuracy: 0.8235 - val_loss: 11.6884 - val_categorical_accuracy: 0.3200 - lr: 0.0100\n",
      "Epoch 5/20\n",
      "33/34 [============================>.] - ETA: 1s - loss: 0.7364 - categorical_accuracy: 0.860633\n",
      "5\n",
      "\n",
      "Epoch 00005: saving model to Conv3D-Dropout-0.2_2024-08-0617_26_29.564942/Conv3D-Dropout-0.2-00005-0.73849-0.85973-56.45505-0.16000.h5\n",
      "34/34 [==============================] - 45s 1s/step - loss: 0.7385 - categorical_accuracy: 0.8597 - val_loss: 56.4550 - val_categorical_accuracy: 0.1600 - lr: 0.0100\n",
      "Epoch 6/20\n",
      "33/34 [============================>.] - ETA: 1s - loss: 1.0878 - categorical_accuracy: 0.840933\n",
      "5\n",
      "5\n",
      "\n",
      "Epoch 00006: saving model to Conv3D-Dropout-0.2_2024-08-0617_26_29.564942/Conv3D-Dropout-0.2-00006-1.08293-0.84163-80.20175-0.15000.h5\n",
      "34/34 [==============================] - 43s 1s/step - loss: 1.0829 - categorical_accuracy: 0.8416 - val_loss: 80.2018 - val_categorical_accuracy: 0.1500 - lr: 0.0100\n",
      "Epoch 7/20\n",
      "33/34 [============================>.] - ETA: 1s - loss: 1.2602 - categorical_accuracy: 0.806133\n",
      "34/34 [==============================] - ETA: 0s - loss: 1.2553 - categorical_accuracy: 0.80695\n",
      "\n",
      "Epoch 00007: saving model to Conv3D-Dropout-0.2_2024-08-0617_26_29.564942/Conv3D-Dropout-0.2-00007-1.25529-0.80694-78.63545-0.21000.h5\n",
      "34/34 [==============================] - 52s 2s/step - loss: 1.2553 - categorical_accuracy: 0.8069 - val_loss: 78.6355 - val_categorical_accuracy: 0.2100 - lr: 0.0100\n",
      "Epoch 8/20\n",
      "33/34 [============================>.] - ETA: 1s - loss: 0.7789 - categorical_accuracy: 0.881833\n",
      "34/34 [==============================] - ETA: 0s - loss: 0.7811 - categorical_accuracy: 0.88085\n",
      "\n",
      "Epoch 00008: saving model to Conv3D-Dropout-0.2_2024-08-0617_26_29.564942/Conv3D-Dropout-0.2-00008-0.78109-0.88084-79.38907-0.14000.h5\n",
      "34/34 [==============================] - 55s 2s/step - loss: 0.7811 - categorical_accuracy: 0.8808 - val_loss: 79.3891 - val_categorical_accuracy: 0.1400 - lr: 0.0100\n",
      "Epoch 9/20\n",
      "33/34 [============================>.] - ETA: 1s - loss: 0.5332 - categorical_accuracy: 0.887933\n",
      "5\n",
      "\n",
      "Epoch 00009: saving model to Conv3D-Dropout-0.2_2024-08-0617_26_29.564942/Conv3D-Dropout-0.2-00009-0.53291-0.88688-16.83064-0.42000.h5\n",
      "\n",
      "Epoch 00009: ReduceLROnPlateau reducing learning rate to 0.0019999999552965165.\n",
      "34/34 [==============================] - 46s 1s/step - loss: 0.5329 - categorical_accuracy: 0.8869 - val_loss: 16.8306 - val_categorical_accuracy: 0.4200 - lr: 0.0100\n",
      "Epoch 10/20\n",
      "33/34 [============================>.] - ETA: 1s - loss: 1.0948 - categorical_accuracy: 0.745533\n",
      "5\n",
      "\n",
      "Epoch 00010: saving model to Conv3D-Dropout-0.2_2024-08-0617_26_29.564942/Conv3D-Dropout-0.2-00010-1.09049-0.74661-10.57321-0.26000.h5\n",
      "34/34 [==============================] - 49s 1s/step - loss: 1.0905 - categorical_accuracy: 0.7466 - val_loss: 10.5732 - val_categorical_accuracy: 0.2600 - lr: 0.0020\n",
      "Epoch 11/20\n",
      "33/34 [============================>.] - ETA: 1s - loss: 0.8544 - categorical_accuracy: 0.800033\n",
      "5\n",
      "5\n",
      "\n",
      "Epoch 00011: saving model to Conv3D-Dropout-0.2_2024-08-0617_26_29.564942/Conv3D-Dropout-0.2-00011-0.85858-0.79940-5.88100-0.18000.h5\n",
      "34/34 [==============================] - 47s 1s/step - loss: 0.8586 - categorical_accuracy: 0.7994 - val_loss: 5.8810 - val_categorical_accuracy: 0.1800 - lr: 0.0020\n",
      "Epoch 12/20\n",
      "33/34 [============================>.] - ETA: 1s - loss: 0.6996 - categorical_accuracy: 0.801533\n",
      "5\n",
      "\n",
      "Epoch 00012: saving model to Conv3D-Dropout-0.2_2024-08-0617_26_29.564942/Conv3D-Dropout-0.2-00012-0.69649-0.80241-7.95305-0.38000.h5\n",
      "34/34 [==============================] - 43s 1s/step - loss: 0.6965 - categorical_accuracy: 0.8024 - val_loss: 7.9531 - val_categorical_accuracy: 0.3800 - lr: 0.0020\n",
      "Epoch 13/20\n",
      "33/34 [============================>.] - ETA: 1s - loss: 0.6857 - categorical_accuracy: 0.827333\n",
      "34/34 [==============================] - ETA: 0s - loss: 0.6829 - categorical_accuracy: 0.82815\n",
      "\n",
      "Epoch 00013: saving model to Conv3D-Dropout-0.2_2024-08-0617_26_29.564942/Conv3D-Dropout-0.2-00013-0.68288-0.82805-4.12617-0.57000.h5\n",
      "34/34 [==============================] - 48s 1s/step - loss: 0.6829 - categorical_accuracy: 0.8281 - val_loss: 4.1262 - val_categorical_accuracy: 0.5700 - lr: 0.0020\n",
      "Epoch 14/20\n",
      "33/34 [============================>.] - ETA: 1s - loss: 0.5472 - categorical_accuracy: 0.830333\n",
      "5\n",
      "\n",
      "Epoch 00014: saving model to Conv3D-Dropout-0.2_2024-08-0617_26_29.564942/Conv3D-Dropout-0.2-00014-0.54918-0.82805-3.41122-0.49000.h5\n",
      "34/34 [==============================] - 47s 1s/step - loss: 0.5492 - categorical_accuracy: 0.8281 - val_loss: 3.4112 - val_categorical_accuracy: 0.4900 - lr: 0.0020\n",
      "Epoch 15/20\n",
      "33/34 [============================>.] - ETA: 1s - loss: 0.4241 - categorical_accuracy: 0.875833\n",
      "5\n",
      "\n",
      "Epoch 00015: saving model to Conv3D-Dropout-0.2_2024-08-0617_26_29.564942/Conv3D-Dropout-0.2-00015-0.42255-0.87632-2.25891-0.42000.h5\n",
      "34/34 [==============================] - 42s 1s/step - loss: 0.4226 - categorical_accuracy: 0.8763 - val_loss: 2.2589 - val_categorical_accuracy: 0.4200 - lr: 0.0020\n",
      "Epoch 16/20\n",
      "33/34 [============================>.] - ETA: 1s - loss: 0.4515 - categorical_accuracy: 0.871233\n",
      "5\n",
      "5\n",
      "\n",
      "Epoch 00016: saving model to Conv3D-Dropout-0.2_2024-08-0617_26_29.564942/Conv3D-Dropout-0.2-00016-0.44961-0.87179-1.95582-0.50000.h5\n",
      "34/34 [==============================] - 53s 2s/step - loss: 0.4496 - categorical_accuracy: 0.8718 - val_loss: 1.9558 - val_categorical_accuracy: 0.5000 - lr: 0.0020\n",
      "Epoch 17/20\n",
      "33/34 [============================>.] - ETA: 1s - loss: 0.3592 - categorical_accuracy: 0.878833\n",
      "5\n",
      "\n",
      "Epoch 00017: saving model to Conv3D-Dropout-0.2_2024-08-0617_26_29.564942/Conv3D-Dropout-0.2-00017-0.36483-0.87783-2.11074-0.57000.h5\n",
      "34/34 [==============================] - 49s 1s/step - loss: 0.3648 - categorical_accuracy: 0.8778 - val_loss: 2.1107 - val_categorical_accuracy: 0.5700 - lr: 0.0020\n",
      "Epoch 18/20\n",
      "33/34 [============================>.] - ETA: 1s - loss: 0.4699 - categorical_accuracy: 0.857633\n",
      "5\n",
      "\n",
      "Epoch 00018: saving model to Conv3D-Dropout-0.2_2024-08-0617_26_29.564942/Conv3D-Dropout-0.2-00018-0.46798-0.85822-1.95531-0.53000.h5\n",
      "34/34 [==============================] - 43s 1s/step - loss: 0.4680 - categorical_accuracy: 0.8582 - val_loss: 1.9553 - val_categorical_accuracy: 0.5300 - lr: 0.0020\n",
      "Epoch 19/20\n",
      "33/34 [============================>.] - ETA: 1s - loss: 0.5430 - categorical_accuracy: 0.865233\n",
      "5\n",
      "\n",
      "Epoch 00019: saving model to Conv3D-Dropout-0.2_2024-08-0617_26_29.564942/Conv3D-Dropout-0.2-00019-0.56068-0.86275-2.37898-0.56000.h5\n",
      "34/34 [==============================] - 46s 1s/step - loss: 0.5607 - categorical_accuracy: 0.8627 - val_loss: 2.3790 - val_categorical_accuracy: 0.5600 - lr: 0.0020\n",
      "Epoch 20/20\n",
      "33/34 [============================>.] - ETA: 1s - loss: 0.5618 - categorical_accuracy: 0.850033\n",
      "34/34 [==============================] - ETA: 0s - loss: 0.5640 - categorical_accuracy: 0.84775\n",
      "\n",
      "Epoch 00020: saving model to Conv3D-Dropout-0.2_2024-08-0617_26_29.564942/Conv3D-Dropout-0.2-00020-0.56400-0.84766-1.38020-0.64000.h5\n",
      "34/34 [==============================] - 42s 1s/step - loss: 0.5640 - categorical_accuracy: 0.8477 - val_loss: 1.3802 - val_categorical_accuracy: 0.6400 - lr: 0.0020\n"
     ]
    },
    {
     "data": {
      "text/plain": [
       "<keras.callbacks.History at 0x7fdb7a278370>"
      ]
     },
     "execution_count": 74,
     "metadata": {},
     "output_type": "execute_result"
    }
   ],
   "source": [
    "model.fit(train_generator, steps_per_epoch=steps_per_epoch, epochs=num_epochs, verbose=1, \n",
    "                    callbacks=callbacks_list, validation_data=val_generator, \n",
    "                    validation_steps=validation_steps, class_weight=None, workers=1, initial_epoch=0)"
   ]
  },
  {
   "cell_type": "markdown",
   "metadata": {},
   "source": [
    "# "
   ]
  },
  {
   "cell_type": "code",
   "execution_count": null,
   "metadata": {},
   "outputs": [],
   "source": []
  }
 ],
 "metadata": {
  "kernelspec": {
   "display_name": "Python 3 (ipykernel)",
   "language": "python",
   "name": "python3"
  },
  "language_info": {
   "codemirror_mode": {
    "name": "ipython",
    "version": 3
   },
   "file_extension": ".py",
   "mimetype": "text/x-python",
   "name": "python",
   "nbconvert_exporter": "python",
   "pygments_lexer": "ipython3",
   "version": "3.11.5"
  }
 },
 "nbformat": 4,
 "nbformat_minor": 4
}
